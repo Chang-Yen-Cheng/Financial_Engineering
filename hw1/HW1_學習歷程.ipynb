{
 "cells": [
  {
   "cell_type": "markdown",
   "metadata": {},
   "source": [
    "# 學習歷程"
   ]
  },
  {
   "cell_type": "markdown",
   "metadata": {},
   "source": [
    "一開始以為作業內容是老師上課教的「本息平均攤還」，代了公式進入程式後發現不對，這才上網查了「本金平均攤還」，差別在於「本息平均攤還」每期要還的金額由Present Value的公式計算 = ((money * rate / 1200)/(1-1+rate/1200) ** (-12 * year)而「本金平均攤還」的每期攤還金額 = money/(year * 12)。實際跑過程式後可以發現:「本金平均攤還」雖然最後連本帶利要支付的金額比「本息平均攤還」要來得少，但負擔金額前期較大並隨著時間經過而減少，屬於先苦後甘的支付方式，借貸者宜選擇最適合自己財務狀況的方案還款。上次寫python是兩年前的事了，本來已經打算放棄了，但因為這門課寫程式的需要，剛好給自己再次挑戰的機會也藉由這次作業複習了基本的迴圈寫法。"
   ]
  }
 ],
 "metadata": {
  "kernelspec": {
   "display_name": "Python 3",
   "language": "python",
   "name": "python3"
  },
  "language_info": {
   "codemirror_mode": {
    "name": "ipython",
    "version": 3
   },
   "file_extension": ".py",
   "mimetype": "text/x-python",
   "name": "python",
   "nbconvert_exporter": "python",
   "pygments_lexer": "ipython3",
   "version": "3.7.4"
  }
 },
 "nbformat": 4,
 "nbformat_minor": 2
}
