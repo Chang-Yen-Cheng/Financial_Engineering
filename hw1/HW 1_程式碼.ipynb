{
 "cells": [
  {
   "cell_type": "code",
   "execution_count": null,
   "metadata": {},
   "outputs": [],
   "source": [
    "money = int(input()) ##請輸入本金(元)"
   ]
  },
  {
   "cell_type": "code",
   "execution_count": null,
   "metadata": {},
   "outputs": [],
   "source": [
    "year = int(input()) ##請輸入期數(年)"
   ]
  },
  {
   "cell_type": "code",
   "execution_count": null,
   "metadata": {},
   "outputs": [],
   "source": [
    "rate = int(input()) ##請輸入年利率(%)"
   ]
  },
  {
   "cell_type": "code",
   "execution_count": null,
   "metadata": {},
   "outputs": [],
   "source": [
    "total = money ##因為初始本金(money)會為了計算新一期的利息而持續變動，所以再創一個變數(total)代表初始本金的金額"
   ]
  },
  {
   "cell_type": "code",
   "execution_count": null,
   "metadata": {},
   "outputs": [],
   "source": [
    "principle = money/(year*12) ## 每期攤還本金 = 初始本金/總期數(年*12個月)"
   ]
  },
  {
   "cell_type": "code",
   "execution_count": null,
   "metadata": {},
   "outputs": [],
   "source": [
    "principle = round(principle, 0) ## 實際上還錢時不可能還帶有小數點的金額，在這裡把每期攤還本金四捨五入"
   ]
  },
  {
   "cell_type": "code",
   "execution_count": null,
   "metadata": {},
   "outputs": [],
   "source": [
    "i = 1 ## 定義迴圈的計數，由第一期開始"
   ]
  },
  {
   "cell_type": "code",
   "execution_count": null,
   "metadata": {},
   "outputs": [],
   "source": [
    "sum = 0 ## 作業規定的本金利息累計"
   ]
  },
  {
   "cell_type": "code",
   "execution_count": null,
   "metadata": {},
   "outputs": [],
   "source": [
    "sum1 = 0 ## 已經還的本金累計，這是為了處理最後一期的還款在小於原先各期本金時將成為最後一期的本金的情形"
   ]
  },
  {
   "cell_type": "code",
   "execution_count": null,
   "metadata": {},
   "outputs": [],
   "source": [
    "while i < int(year*12) :  ##關於以下迴圈的想法在流程圖中作介紹\n",
    "    if  total - sum1 >= principle :\n",
    "        interest = (money*rate/1200)\n",
    "        interest = round(interest, 0)\n",
    "        payment = principle + interest\n",
    "        sum = sum + payment    \n",
    "        sum1 = sum1 + principle\n",
    "        money = money - principle\n",
    "        print(\"第\",i,\"期\",round(principle, 0),\" \",round(interest, 0),\" \",round(sum, 0))\n",
    "        i = i + 1\n",
    "    if  total - sum1 < principle :\n",
    "        interest = (money*rate/1200)\n",
    "        interest = round(interest, 0)\n",
    "        principle = total - sum1\n",
    "        payment = principle + interest\n",
    "        sum = sum + payment\n",
    "        sum1 = sum1 + principle\n",
    "        money = money - principle\n",
    "        print(\"第\",i,\"期\",round(principle, 0),\" \",round(interest, 0),\" \",round(sum, 0))\n",
    "        i = i + 1\n",
    "\n",
    "        \n",
    "        \n",
    "        "
   ]
  }
 ],
 "metadata": {
  "kernelspec": {
   "display_name": "Python 3",
   "language": "python",
   "name": "python3"
  },
  "language_info": {
   "codemirror_mode": {
    "name": "ipython",
    "version": 3
   },
   "file_extension": ".py",
   "mimetype": "text/x-python",
   "name": "python",
   "nbconvert_exporter": "python",
   "pygments_lexer": "ipython3",
   "version": "3.7.4"
  }
 },
 "nbformat": 4,
 "nbformat_minor": 2
}
