{
 "cells": [
  {
   "cell_type": "markdown",
   "metadata": {},
   "source": [
    "# 學習歷程\n",
    "\n",
    "利用理論值PV可以計算出當期價格P下的殖利率，再透過更改持有年限(N)就可以得知持有各年之下的殖利率，這時就可以利用這些殖利率計算往後各年價格的理論值，再解S(2)到S(n)，透過各期的spot rate就可以print出forward rate的表格了。理論上是這樣，但程式很遺憾我無法在時限內寫出來，下次會盡可能不那麼完美主義跟有空就開始做。除了硬實力之外，如何面對失敗還能夠再站起來的挫折忍受力也是很重要的，共勉之。\n"
   ]
  }
 ],
 "metadata": {
  "kernelspec": {
   "display_name": "Python 3",
   "language": "python",
   "name": "python3"
  },
  "language_info": {
   "codemirror_mode": {
    "name": "ipython",
    "version": 3
   },
   "file_extension": ".py",
   "mimetype": "text/x-python",
   "name": "python",
   "nbconvert_exporter": "python",
   "pygments_lexer": "ipython3",
   "version": "3.7.4"
  }
 },
 "nbformat": 4,
 "nbformat_minor": 2
}
