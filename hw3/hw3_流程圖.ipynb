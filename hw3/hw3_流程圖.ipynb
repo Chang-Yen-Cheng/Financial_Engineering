{
 "cells": [
  {
   "cell_type": "markdown",
   "metadata": {},
   "source": [
    "# 流程圖\n",
    "![](img/hw3_flowchart.png) \n",
    "\n",
    "如圖，推導出未來各期選擇權可能價格的四個欄位後，任兩個相鄰欄位的值經由同樣的選擇權價格計算方法(methodology)，就可以得到下一個節點的選擇權價格，兩個節點的價格再經由同樣方法計算向前推進，如此從最後面backward induction，最終就可以求出題目想知道的站在今天的選擇權價格。"
   ]
  }
 ],
 "metadata": {
  "kernelspec": {
   "display_name": "Python 3",
   "language": "python",
   "name": "python3"
  },
  "language_info": {
   "codemirror_mode": {
    "name": "ipython",
    "version": 3
   },
   "file_extension": ".py",
   "mimetype": "text/x-python",
   "name": "python",
   "nbconvert_exporter": "python",
   "pygments_lexer": "ipython3",
   "version": "3.7.4"
  }
 },
 "nbformat": 4,
 "nbformat_minor": 2
}
