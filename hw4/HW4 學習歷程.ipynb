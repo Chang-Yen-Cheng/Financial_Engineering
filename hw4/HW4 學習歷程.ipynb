{
 "cells": [
  {
   "cell_type": "markdown",
   "metadata": {},
   "source": [
    "# 學習歷程\n",
    "\n",
    "這次作業的內容是上次選擇權定價的延續，從較為粗糙的binomial模型進展到由諾貝爾獎得主研究出來的Black and Scholes定價模型，並加上了股利的發放。這次的作業和上次一樣，設計成不只可以完成作業的要求，更可以因應不同發放次數、股利金額、發放時間等等情況。"
   ]
  },
  {
   "cell_type": "code",
   "execution_count": 1,
   "metadata": {},
   "outputs": [
    {
     "name": "stdout",
     "output_type": "stream",
     "text": [
      "75\n",
      "0.35\n",
      "65\n",
      "0.06\n",
      "180\n",
      "2\n"
     ]
    }
   ],
   "source": [
    "import math\n",
    "S = int(input())        # 輸入股票價格\n",
    "sigma = float(input())  # 輸入股票波動率\n",
    "K = int(input())        # 輸入股票\n",
    "r = float(input())      # 輸入履約價格\n",
    "mat = int(input())      # 輸入到期期限\n",
    "n = int(input())        # 輸入今天距到期期限間總共發放幾次股利"
   ]
  },
  {
   "cell_type": "markdown",
   "metadata": {},
   "source": [
    "根據總共發放幾次股利(n)的值，可以輸入不同股利的金額與發放日，將折現後的值加總後再讓股票價格減去即可"
   ]
  },
  {
   "cell_type": "code",
   "execution_count": 2,
   "metadata": {},
   "outputs": [
    {
     "name": "stdout",
     "output_type": "stream",
     "text": [
      "1\n",
      "30\n",
      "1\n",
      "120\n"
     ]
    }
   ],
   "source": [
    "add = []\n",
    "for i in range(n):\n",
    "    D = int(input())    # 輸入該股利的金額\n",
    "    t = int(input())    # 輸入該股利的發放距離今天多久\n",
    "    calculated = D * math.exp(-t * r / 365)  # 折現到今天\n",
    "    add.append(calculated)\n",
    "Dn = sum(add)"
   ]
  },
  {
   "cell_type": "code",
   "execution_count": 3,
   "metadata": {},
   "outputs": [],
   "source": [
    "d1 = (math.log(S - Dn) / K + (r + sigma ** 2 / 2) * mat / 365) / (sigma * (mat / 365) ** 0.5)\n",
    "d2 = d1 - (sigma * (mat / 365) ** 0.5)"
   ]
  },
  {
   "cell_type": "code",
   "execution_count": 4,
   "metadata": {},
   "outputs": [
    {
     "name": "stdout",
     "output_type": "stream",
     "text": [
      "0.5118539373350945 0.26606752822322033\n"
     ]
    }
   ],
   "source": [
    "print(d1, d2)"
   ]
  },
  {
   "cell_type": "code",
   "execution_count": 5,
   "metadata": {},
   "outputs": [],
   "source": [
    "from scipy.stats import norm\n",
    "c = (S - Dn) * norm.cdf(d1) - K * math.exp(-r * mat / 365) * norm.cdf(d2)\n",
    "p = K * math.exp(-r * mat / 365) * (1 - norm.cdf(d2)) - (S - Dn) * (1 - norm.cdf(d1))"
   ]
  },
  {
   "cell_type": "code",
   "execution_count": 6,
   "metadata": {},
   "outputs": [
    {
     "name": "stdout",
     "output_type": "stream",
     "text": [
      "12.624965811385202 2.705401570271359\n"
     ]
    }
   ],
   "source": [
    "print(c, p)"
   ]
  }
 ],
 "metadata": {
  "kernelspec": {
   "display_name": "Python 3",
   "language": "python",
   "name": "python3"
  },
  "language_info": {
   "codemirror_mode": {
    "name": "ipython",
    "version": 3
   },
   "file_extension": ".py",
   "mimetype": "text/x-python",
   "name": "python",
   "nbconvert_exporter": "python",
   "pygments_lexer": "ipython3",
   "version": "3.7.4"
  }
 },
 "nbformat": 4,
 "nbformat_minor": 2
}
