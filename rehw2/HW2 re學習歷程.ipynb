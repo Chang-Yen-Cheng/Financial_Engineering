{
 "cells": [
  {
   "cell_type": "markdown",
   "metadata": {},
   "source": [
    "# 學習歷程"
   ]
  },
  {
   "cell_type": "markdown",
   "metadata": {},
   "source": [
    "能夠有機會把之前未能完成的部分再次研究相關材料後寫完是很值得一做的事。"
   ]
  },
  {
   "cell_type": "markdown",
   "metadata": {},
   "source": [
    "## 一、計算ytm"
   ]
  },
  {
   "cell_type": "markdown",
   "metadata": {},
   "source": [
    "給定關於此債券的基本資訊:票面金額、票面利率、當期價格、距離到期幾年、付息方式就可以透過PV公式的定價得到債券的理論價格。有了理論價格後利用逆向的PV公式就可以解出未知數殖利率ytm，在發現用手解方程式解不出來後，採取將殖利率設為一個極小值後用迴圈一步一步讓PV逼近P的方式，來求取在這個當期價格下持有債券可以擁有多少殖利率的報酬。"
   ]
  },
  {
   "cell_type": "code",
   "execution_count": 1,
   "metadata": {},
   "outputs": [
    {
     "name": "stdout",
     "output_type": "stream",
     "text": [
      "1000\n",
      "0.05\n",
      "950\n",
      "1\n",
      "1\n"
     ]
    }
   ],
   "source": [
    "F = int(input())             #請輸入票面金額\n",
    "Rate = float(input())        #請輸入票面利率\n",
    "P = int(input())             #請輸入當期價格\n",
    "N = float(input())           #請輸入距到期幾年\n",
    "m = float(input())           #請輸入付息方式(e.g.annualy:1,semiannualy:0.5.....)\n",
    "C = F * Rate / m\n",
    "n = N * m"
   ]
  },
  {
   "cell_type": "code",
   "execution_count": 2,
   "metadata": {},
   "outputs": [],
   "source": [
    "i = 0"
   ]
  },
  {
   "cell_type": "code",
   "execution_count": 3,
   "metadata": {},
   "outputs": [],
   "source": [
    "R = 0.00001"
   ]
  },
  {
   "cell_type": "code",
   "execution_count": 4,
   "metadata": {},
   "outputs": [],
   "source": [
    "PV = C * (1- (1 + R/m) ** (-n)) / (R/m) + F / (1+R/m) ** n "
   ]
  },
  {
   "cell_type": "code",
   "execution_count": 5,
   "metadata": {},
   "outputs": [
    {
     "name": "stdout",
     "output_type": "stream",
     "text": [
      "10.5270%"
     ]
    }
   ],
   "source": [
    "while i < 10000000000000:\n",
    "    if P < PV :\n",
    "        R = R + 0.00001\n",
    "        PV = C * (1-(1 + R/m) ** (-n)) / (R/m) + F / (1+R/m) ** n\n",
    "        i = i + 1\n",
    "        \n",
    "    if P >= PV :\n",
    "        R = 100*R/m\n",
    "        print(\"%.4f\" % R, end = \"%\")\n",
    "        break\n",
    "        "
   ]
  },
  {
   "cell_type": "markdown",
   "metadata": {},
   "source": [
    "接下來想輸入幾個債券資訊呢?"
   ]
  },
  {
   "cell_type": "code",
   "execution_count": 6,
   "metadata": {},
   "outputs": [
    {
     "name": "stdout",
     "output_type": "stream",
     "text": [
      "5\n"
     ]
    }
   ],
   "source": [
    "number = int(input())"
   ]
  },
  {
   "cell_type": "markdown",
   "metadata": {},
   "source": [
    "## 二、計算spot rate"
   ]
  },
  {
   "cell_type": "markdown",
   "metadata": {},
   "source": [
    "這裡設計成可以分別輸入五個債券的距今到期期間與價格，假設票面價值都為100所以價格的計算上p要除以100才能在公式中運算，為求簡化也假設了付息方式都是一樣的annualy。接著將數值代入spot rate公式後，將結果儲存於一個陣列中。"
   ]
  },
  {
   "cell_type": "code",
   "execution_count": 7,
   "metadata": {},
   "outputs": [
    {
     "name": "stdout",
     "output_type": "stream",
     "text": [
      "1\n",
      "100\n",
      "[0.0]\n",
      "2\n",
      "97\n",
      "[0.0, 0.0153]\n",
      "3\n",
      "93\n",
      "[0.0, 0.0153, 0.0245]\n",
      "4\n",
      "88\n",
      "[0.0, 0.0153, 0.0245, 0.0325]\n",
      "5\n",
      "81\n",
      "[0.0, 0.0153, 0.0245, 0.0325, 0.043]\n"
     ]
    }
   ],
   "source": [
    "spot = []\n",
    "for k in range(number):\n",
    "    t = int(input())    \n",
    "    p = float(input()) \n",
    "    y = (p/100) ** (-1/t) - 1\n",
    "    y = round(y, 4)\n",
    "    spot.append(y)\n",
    "    print(spot)\n",
    "#五期的arbitrary債券價格:100 97 93 88 81"
   ]
  },
  {
   "cell_type": "markdown",
   "metadata": {},
   "source": [
    "## 三、使用二維陣列儲存forward rate"
   ]
  },
  {
   "cell_type": "markdown",
   "metadata": {},
   "source": [
    "將在上一題中得到的spot rate陣列透過雙重迴圈的方式經過forward rate的公式計算後儲存進入矩陣中"
   ]
  },
  {
   "cell_type": "code",
   "execution_count": 8,
   "metadata": {},
   "outputs": [],
   "source": [
    "import numpy as np\n",
    "forward_matrix = np.zeros((len(spot),len(spot)))\n",
    "m = 1\n",
    "for i in range(len(spot)):\n",
    "    for j in range(i,len(spot)):\n",
    "        if i < j:\n",
    "            forward_matrix[i][j] = (((1 + spot[j] * m) ** j / (1 + spot[i] * m) ** i) ** (1/(j-i))-1)/m"
   ]
  },
  {
   "cell_type": "markdown",
   "metadata": {},
   "source": [
    "最後利用pandas將矩陣的表格轉化成二維陣列"
   ]
  },
  {
   "cell_type": "code",
   "execution_count": 9,
   "metadata": {},
   "outputs": [
    {
     "data": {
      "text/html": [
       "<div>\n",
       "<style scoped>\n",
       "    .dataframe tbody tr th:only-of-type {\n",
       "        vertical-align: middle;\n",
       "    }\n",
       "\n",
       "    .dataframe tbody tr th {\n",
       "        vertical-align: top;\n",
       "    }\n",
       "\n",
       "    .dataframe thead th {\n",
       "        text-align: right;\n",
       "    }\n",
       "</style>\n",
       "<table border=\"1\" class=\"dataframe\">\n",
       "  <thead>\n",
       "    <tr style=\"text-align: right;\">\n",
       "      <th></th>\n",
       "      <th>0</th>\n",
       "      <th>1</th>\n",
       "      <th>2</th>\n",
       "      <th>3</th>\n",
       "      <th>4</th>\n",
       "    </tr>\n",
       "  </thead>\n",
       "  <tbody>\n",
       "    <tr>\n",
       "      <td>0</td>\n",
       "      <td>0.0</td>\n",
       "      <td>0.0153</td>\n",
       "      <td>0.024500</td>\n",
       "      <td>0.032500</td>\n",
       "      <td>0.043000</td>\n",
       "    </tr>\n",
       "    <tr>\n",
       "      <td>1</td>\n",
       "      <td>0.0</td>\n",
       "      <td>0.0000</td>\n",
       "      <td>0.033783</td>\n",
       "      <td>0.041209</td>\n",
       "      <td>0.052400</td>\n",
       "    </tr>\n",
       "    <tr>\n",
       "      <td>2</td>\n",
       "      <td>0.0</td>\n",
       "      <td>0.0000</td>\n",
       "      <td>0.000000</td>\n",
       "      <td>0.048688</td>\n",
       "      <td>0.061834</td>\n",
       "    </tr>\n",
       "    <tr>\n",
       "      <td>3</td>\n",
       "      <td>0.0</td>\n",
       "      <td>0.0000</td>\n",
       "      <td>0.000000</td>\n",
       "      <td>0.000000</td>\n",
       "      <td>0.075145</td>\n",
       "    </tr>\n",
       "    <tr>\n",
       "      <td>4</td>\n",
       "      <td>0.0</td>\n",
       "      <td>0.0000</td>\n",
       "      <td>0.000000</td>\n",
       "      <td>0.000000</td>\n",
       "      <td>0.000000</td>\n",
       "    </tr>\n",
       "  </tbody>\n",
       "</table>\n",
       "</div>"
      ],
      "text/plain": [
       "     0       1         2         3         4\n",
       "0  0.0  0.0153  0.024500  0.032500  0.043000\n",
       "1  0.0  0.0000  0.033783  0.041209  0.052400\n",
       "2  0.0  0.0000  0.000000  0.048688  0.061834\n",
       "3  0.0  0.0000  0.000000  0.000000  0.075145\n",
       "4  0.0  0.0000  0.000000  0.000000  0.000000"
      ]
     },
     "execution_count": 9,
     "metadata": {},
     "output_type": "execute_result"
    }
   ],
   "source": [
    "import pandas as pd\n",
    "forward_table = pd.DataFrame(forward_matrix)\n",
    "forward_table"
   ]
  }
 ],
 "metadata": {
  "kernelspec": {
   "display_name": "Python 3",
   "language": "python",
   "name": "python3"
  },
  "language_info": {
   "codemirror_mode": {
    "name": "ipython",
    "version": 3
   },
   "file_extension": ".py",
   "mimetype": "text/x-python",
   "name": "python",
   "nbconvert_exporter": "python",
   "pygments_lexer": "ipython3",
   "version": "3.7.4"
  }
 },
 "nbformat": 4,
 "nbformat_minor": 2
}
