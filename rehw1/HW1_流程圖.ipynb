{
 "cells": [
  {
   "cell_type": "markdown",
   "metadata": {},
   "source": [
    "本次作業有三個輸入變數，分別是：*本金*、*總期數*、*利率*。同時要求三個輸出變數：*各期本金*、*各期利息*、*本金利息累計*。\n",
    "*各期本金*除了最後一期可能有變化需要另外處理外，在那之前各期相等，由*本金*/*利息* * *總期數*的公式得出。"
   ]
  }
 ],
 "metadata": {
  "kernelspec": {
   "display_name": "Python 3",
   "language": "python",
   "name": "python3"
  },
  "language_info": {
   "codemirror_mode": {
    "name": "ipython",
    "version": 3
   },
   "file_extension": ".py",
   "mimetype": "text/x-python",
   "name": "python",
   "nbconvert_exporter": "python",
   "pygments_lexer": "ipython3",
   "version": "3.7.4"
  }
 },
 "nbformat": 4,
 "nbformat_minor": 2
}
