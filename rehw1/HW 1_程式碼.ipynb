{
 "cells": [
  {
   "cell_type": "code",
   "execution_count": null,
   "metadata": {},
   "outputs": [],
   "source": [
    "money = int(input())                    \n",
    "year = int(input())                       \n",
    "rate = int(input())                       \n",
    "total = money                         \n",
    "principle = money / (year * 12)               \n",
    "principle = round(principle, 0)  \n",
    "sum = 0                                   \n",
    "sum1 = 0                                  \n",
    "for i in range(year*12) :                  \n",
    "    interest = (money * rate / 1200)\n",
    "    interest = round(interest, 0)\n",
    "    payment = principle + interest\n",
    "    sum = sum + payment    \n",
    "    sum1 = sum1 + principle\n",
    "    money = money - principle\n",
    "    print(\"第\",i + 1 ,\"期\",round(principle, 0),\" \",round(interest, 0),\" \",round(sum, 0))    "
   ]
  }
 ],
 "metadata": {
  "kernelspec": {
   "display_name": "Python 3",
   "language": "python",
   "name": "python3"
  },
  "language_info": {
   "codemirror_mode": {
    "name": "ipython",
    "version": 3
   },
   "file_extension": ".py",
   "mimetype": "text/x-python",
   "name": "python",
   "nbconvert_exporter": "python",
   "pygments_lexer": "ipython3",
   "version": "3.7.4"
  }
 },
 "nbformat": 4,
 "nbformat_minor": 2
}
