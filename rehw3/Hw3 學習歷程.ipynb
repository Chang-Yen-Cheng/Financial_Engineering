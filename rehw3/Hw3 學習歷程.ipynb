{
 "cells": [
  {
   "cell_type": "markdown",
   "metadata": {},
   "source": [
    "# 學習歷程\n",
    "\n",
    "這兩週的上課教的基本上是我在大三時上了一整個學期的「衍生性金融商品」這門課的全部內容。看一下上課影片，翻一翻以前的筆記，就沒什麼大問題。因為以後還用得到這個程式，我的作業做的是除了可以自由輸入六個影響價格的變數外，還可以計算從無限期回推的選擇權價格，並不只限於但包含題目要的，從第三期推回來的答案。"
   ]
  },
  {
   "cell_type": "markdown",
   "metadata": {},
   "source": [
    "# 計算出未來最終期選擇權可能價格"
   ]
  },
  {
   "cell_type": "markdown",
   "metadata": {},
   "source": [
    "設計一個迴圈讓未來各種可能的價格在減掉履約價格，令負數的答案等於零之後和正數一起進到一個list裡:"
   ]
  },
  {
   "cell_type": "code",
   "execution_count": 1,
   "metadata": {},
   "outputs": [
    {
     "name": "stdout",
     "output_type": "stream",
     "text": [
      "3\n",
      "160\n",
      "1.5\n",
      "0.5\n",
      "0.18232\n",
      "150\n"
     ]
    }
   ],
   "source": [
    "import math\n",
    "n = int(input())                      #輸入距今天幾期\n",
    "k = n                                 # 因為n在過程中會變所以設個 k記錄初始值\n",
    "S = int(input())                      # 輸入股票價格\n",
    "u = float(input())                    # 價格上漲的比率\n",
    "d = float(input())                    # 價格下跌的比率\n",
    "r = float(input())                    # 利率\n",
    "R = math.exp(r)  \n",
    "t = math.exp(-r)\n",
    "X = int(input())                      # 輸入履約價格\n",
    "p = ( R - d ) / (u - d)"
   ]
  },
  {
   "cell_type": "code",
   "execution_count": 2,
   "metadata": {},
   "outputs": [],
   "source": [
    "result = []"
   ]
  },
  {
   "cell_type": "code",
   "execution_count": 3,
   "metadata": {},
   "outputs": [],
   "source": [
    "i = 0"
   ]
  },
  {
   "cell_type": "code",
   "execution_count": 4,
   "metadata": {},
   "outputs": [],
   "source": [
    "while n >= 0 : \n",
    "    first = (u ** n) * (d ** i) * S\n",
    "    if first > X:\n",
    "        first = first - X\n",
    "        result.append(first)\n",
    "        n = n - 1\n",
    "        i = i + 1\n",
    "    \n",
    "    \n",
    "    if first <= X:\n",
    "        first = 0\n",
    "        result.append(first)\n",
    "        n = n - 1\n",
    "        i = i + 1\n",
    "    "
   ]
  },
  {
   "cell_type": "code",
   "execution_count": 5,
   "metadata": {},
   "outputs": [
    {
     "name": "stdout",
     "output_type": "stream",
     "text": [
      "[390.0, 30.0, 0, 0]\n"
     ]
    }
   ],
   "source": [
    "print(result)"
   ]
  },
  {
   "cell_type": "markdown",
   "metadata": {},
   "source": [
    "# 處理大於三期(n>3)的情況"
   ]
  },
  {
   "cell_type": "markdown",
   "metadata": {},
   "source": [
    "觀察最終期可能價格，n期有n+1個欄位，往往只有在最上面數下來第一個以及第二個欄位是正數，其餘都是最終變成零的負數。利用這點，就可以刪除後面多餘的零，令三期為一個基準，將list刪減到三期的長度再進行運算:"
   ]
  },
  {
   "cell_type": "code",
   "execution_count": 6,
   "metadata": {},
   "outputs": [],
   "source": [
    "while k > 3 :\n",
    "    if k > 3:\n",
    "        result.pop()\n",
    "        k = k - 1\n",
    "    else :\n",
    "        break\n",
    "        "
   ]
  },
  {
   "cell_type": "code",
   "execution_count": 7,
   "metadata": {},
   "outputs": [
    {
     "name": "stdout",
     "output_type": "stream",
     "text": [
      "[390.0, 30.0, 0, 0]\n"
     ]
    }
   ],
   "source": [
    "print(result)"
   ]
  },
  {
   "cell_type": "markdown",
   "metadata": {},
   "source": [
    "# 在同個list中反覆操作選擇權價格的運算"
   ]
  },
  {
   "cell_type": "markdown",
   "metadata": {},
   "source": [
    "接下來這裡我用的是list manipulation的作法，讓list中第一項與第二項作求取選擇權價格的運算，把答案加到list最後一項後，刪掉第一項的答案，因為不會再用到了。迴圈判別的標準是放到後面的答案等於零與否，等於零代表是最後兩欄的零經過選擇權價格的運算後得到的答案，此時刪掉上一期留下來的資料後就進到下一期，再跑一次一樣的流程，到迴圈計數結束的這時就可以印出最後位在list中第一項的選擇權價格："
   ]
  },
  {
   "cell_type": "code",
   "execution_count": 8,
   "metadata": {},
   "outputs": [
    {
     "name": "stdout",
     "output_type": "stream",
     "text": [
      "85.06922876361149\n"
     ]
    }
   ],
   "source": [
    "j = 3\n",
    "i = 1\n",
    "while True:\n",
    "    \n",
    "    if j > 0:\n",
    "    \n",
    "        while True :\n",
    "   \n",
    "            second = (result[i - 1] * p + result[i] * (1 - p)) * t\n",
    "            result.append(second)\n",
    "                      \n",
    "        \n",
    "            if j == 0:\n",
    "                \n",
    "                break\n",
    "            if result[-1] != 0 :\n",
    "                del result[0]\n",
    "                    \n",
    "    \n",
    "    \n",
    "            if result[-1] == 0 :\n",
    "                del result[0:2]\n",
    "                result.insert(-1, 0)\n",
    "                j = j - 1\n",
    "                \n",
    "    if j == 0:\n",
    "\n",
    "        print(result[0])\n",
    "        break\n",
    "    \n",
    "    "
   ]
  }
 ],
 "metadata": {
  "kernelspec": {
   "display_name": "Python 3",
   "language": "python",
   "name": "python3"
  },
  "language_info": {
   "codemirror_mode": {
    "name": "ipython",
    "version": 3
   },
   "file_extension": ".py",
   "mimetype": "text/x-python",
   "name": "python",
   "nbconvert_exporter": "python",
   "pygments_lexer": "ipython3",
   "version": "3.7.4"
  }
 },
 "nbformat": 4,
 "nbformat_minor": 2
}
