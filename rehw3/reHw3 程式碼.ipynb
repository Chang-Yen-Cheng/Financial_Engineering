{
 "cells": [
  {
   "cell_type": "code",
   "execution_count": 1,
   "metadata": {},
   "outputs": [
    {
     "name": "stdout",
     "output_type": "stream",
     "text": [
      "3\n",
      "160\n",
      "1.5\n",
      "0.5\n",
      "0.18232\n",
      "150\n"
     ]
    }
   ],
   "source": [
    "import math\n",
    "n = int(input())                      #輸入距今天幾期\n",
    "k = n                                 # 因為n在過程中會變所以設個 k記錄初始值\n",
    "S = int(input())                      # 輸入股票價格\n",
    "u = float(input())                    # 價格上漲的比率\n",
    "d = float(input())                    # 價格下跌的比率\n",
    "r = float(input())                    # 利率\n",
    "R = math.exp(r)  \n",
    "t = math.exp(-r)\n",
    "X = int(input())                      # 輸入履約價格\n",
    "p = ( R - d ) / (u - d)"
   ]
  },
  {
   "cell_type": "code",
   "execution_count": 2,
   "metadata": {},
   "outputs": [],
   "source": [
    "result = []"
   ]
  },
  {
   "cell_type": "code",
   "execution_count": 3,
   "metadata": {},
   "outputs": [],
   "source": [
    "i = 0"
   ]
  },
  {
   "cell_type": "code",
   "execution_count": 4,
   "metadata": {},
   "outputs": [],
   "source": [
    "while n >= 0 : \n",
    "    first = (u ** n) * (d ** i) * S\n",
    "    if first > X:\n",
    "        first = first - X\n",
    "        result.append(first)\n",
    "        n = n - 1\n",
    "        i = i + 1\n",
    "    \n",
    "    \n",
    "    if first <= X:\n",
    "        first = 0\n",
    "        result.append(first)\n",
    "        n = n - 1\n",
    "        i = i + 1\n",
    "    "
   ]
  },
  {
   "cell_type": "code",
   "execution_count": 5,
   "metadata": {},
   "outputs": [
    {
     "name": "stdout",
     "output_type": "stream",
     "text": [
      "[390.0, 30.0, 0, 0]\n"
     ]
    }
   ],
   "source": [
    "print(result)"
   ]
  },
  {
   "cell_type": "code",
   "execution_count": 6,
   "metadata": {},
   "outputs": [],
   "source": [
    "while k > 3 :\n",
    "    if k > 3:\n",
    "        result.pop()\n",
    "        k = k - 1\n",
    "    else :\n",
    "        break\n",
    "        "
   ]
  },
  {
   "cell_type": "code",
   "execution_count": 7,
   "metadata": {},
   "outputs": [
    {
     "name": "stdout",
     "output_type": "stream",
     "text": [
      "[390.0, 30.0, 0, 0]\n"
     ]
    }
   ],
   "source": [
    "print(result)"
   ]
  },
  {
   "cell_type": "code",
   "execution_count": 8,
   "metadata": {},
   "outputs": [
    {
     "name": "stdout",
     "output_type": "stream",
     "text": [
      "85.06922876361149\n"
     ]
    }
   ],
   "source": [
    "j = 3\n",
    "i = 1\n",
    "while True:\n",
    "    \n",
    "    if j > 0:\n",
    "    \n",
    "        while True :\n",
    "   \n",
    "            second = (result[i - 1] * p + result[i] * (1 - p)) * t\n",
    "            result.append(second)\n",
    "                      \n",
    "        \n",
    "            if j == 0:\n",
    "                \n",
    "                break\n",
    "            if result[-1] != 0 :\n",
    "                del result[0]\n",
    "                    \n",
    "    \n",
    "    \n",
    "            if result[-1] == 0 :\n",
    "                del result[0:2]\n",
    "                result.insert(-1, 0)\n",
    "                j = j - 1\n",
    "                \n",
    "    if j == 0:\n",
    "\n",
    "        print(result[0])\n",
    "        break\n",
    "    \n",
    "    "
   ]
  }
 ],
 "metadata": {
  "kernelspec": {
   "display_name": "Python 3",
   "language": "python",
   "name": "python3"
  },
  "language_info": {
   "codemirror_mode": {
    "name": "ipython",
    "version": 3
   },
   "file_extension": ".py",
   "mimetype": "text/x-python",
   "name": "python",
   "nbconvert_exporter": "python",
   "pygments_lexer": "ipython3",
   "version": "3.7.4"
  }
 },
 "nbformat": 4,
 "nbformat_minor": 2
}
