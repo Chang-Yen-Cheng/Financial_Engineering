{
 "cells": [
  {
   "cell_type": "code",
   "execution_count": 1,
   "metadata": {},
   "outputs": [
    {
     "name": "stdout",
     "output_type": "stream",
     "text": [
      "1000\n"
     ]
    }
   ],
   "source": [
    "F = int(input())"
   ]
  },
  {
   "cell_type": "code",
   "execution_count": 2,
   "metadata": {},
   "outputs": [
    {
     "name": "stdout",
     "output_type": "stream",
     "text": [
      "0.03\n"
     ]
    }
   ],
   "source": [
    "Rate = float(input())"
   ]
  },
  {
   "cell_type": "code",
   "execution_count": 3,
   "metadata": {},
   "outputs": [
    {
     "name": "stdout",
     "output_type": "stream",
     "text": [
      "950\n"
     ]
    }
   ],
   "source": [
    "P = int(input())"
   ]
  },
  {
   "cell_type": "code",
   "execution_count": 4,
   "metadata": {},
   "outputs": [
    {
     "name": "stdout",
     "output_type": "stream",
     "text": [
      "1\n"
     ]
    }
   ],
   "source": [
    "N = float(input())"
   ]
  },
  {
   "cell_type": "code",
   "execution_count": 5,
   "metadata": {},
   "outputs": [
    {
     "name": "stdout",
     "output_type": "stream",
     "text": [
      "1\n"
     ]
    }
   ],
   "source": [
    "m = float(input())"
   ]
  },
  {
   "cell_type": "code",
   "execution_count": 6,
   "metadata": {},
   "outputs": [],
   "source": [
    "C = F * Rate / m"
   ]
  },
  {
   "cell_type": "code",
   "execution_count": 7,
   "metadata": {},
   "outputs": [],
   "source": [
    "n = N * m "
   ]
  },
  {
   "cell_type": "code",
   "execution_count": 8,
   "metadata": {},
   "outputs": [],
   "source": [
    "i = 0"
   ]
  },
  {
   "cell_type": "code",
   "execution_count": 9,
   "metadata": {},
   "outputs": [],
   "source": [
    "R = 0.00001"
   ]
  },
  {
   "cell_type": "code",
   "execution_count": 10,
   "metadata": {},
   "outputs": [],
   "source": [
    "PV = C * (1- (1 + R/m) ** (-n)) / (R/m) + F / (1+R/m) ** n "
   ]
  },
  {
   "cell_type": "code",
   "execution_count": 11,
   "metadata": {},
   "outputs": [
    {
     "name": "stdout",
     "output_type": "stream",
     "text": [
      "8.422000000000004\n"
     ]
    }
   ],
   "source": [
    "while i < 10000000000000:\n",
    "    if P < PV :\n",
    "        R = R + 0.00001\n",
    "        PV = C * (1-(1 + R/m) ** (-n)) / (R/m) + F / (1+R/m) ** n\n",
    "        i = i + 1\n",
    "        \n",
    "    if P >= PV :\n",
    "        R = 100*R/m\n",
    "        print(R)\n",
    "        break\n",
    "        "
   ]
  },
  {
   "cell_type": "code",
   "execution_count": 12,
   "metadata": {},
   "outputs": [],
   "source": [
    "def wonder(f,r,p,y):\n",
    "    r = 0.00001\n",
    "    c = f * Rate \n",
    "    i = 0\n",
    "    pv = c * (1- (1 + r) ** (-y)) / (r) + f / (1+r) ** y\n",
    "    \n",
    "    \n",
    "    while i < 10000000000000:\n",
    "        if p < pv :\n",
    "            r = r + 0.00001\n",
    "            pv = c * (1-(1 + r) ** (-y)) / (r) + f / (1+r) ** y\n",
    "            i = i + 1\n",
    "        \n",
    "        if p >= pv :\n",
    "            r = 100*r\n",
    "            \n",
    "            break\n",
    "    "
   ]
  },
  {
   "cell_type": "code",
   "execution_count": 13,
   "metadata": {},
   "outputs": [
    {
     "name": "stdout",
     "output_type": "stream",
     "text": [
      "1000\n",
      "0.03\n",
      "950\n",
      "2\n",
      "0.03\n"
     ]
    }
   ],
   "source": [
    "f = int(input())\n",
    "r = float(input())\n",
    "p = int(input())\n",
    "y = float(input())\n",
    "wonder(f,r,p,y)\n",
    "print(r)"
   ]
  },
  {
   "cell_type": "code",
   "execution_count": 14,
   "metadata": {},
   "outputs": [],
   "source": [
    "def wonder2(y):\n",
    "    r = 0.00001\n",
    "    c = f * Rate \n",
    "    i = 0\n",
    "    pv = c * (1- (1 + r) ** (-y)) / (r) + f / (1+r) ** y\n",
    "    \n",
    "    \n",
    "    while i < 10000000000000:\n",
    "        if p < pv :\n",
    "            r = r + 0.00001\n",
    "            pv = c * (1-(1 + r) ** (-y)) / (r) + f / (1+r) ** y\n",
    "            i = i + 1\n",
    "        \n",
    "        if p >= pv :\n",
    "            r = 100*r\n",
    "            ytm.append(r)\n",
    "            break\n",
    "    "
   ]
  },
  {
   "cell_type": "code",
   "execution_count": 15,
   "metadata": {},
   "outputs": [],
   "source": [
    "def spot_rate(Pt):\n",
    "    spot[n] = Pt ** (-1/t) - 1"
   ]
  },
  {
   "cell_type": "code",
   "execution_count": 42,
   "metadata": {},
   "outputs": [],
   "source": [
    "def guess_price(y):\n",
    "    j = 1\n",
    "    n = 0\n",
    "    k = 1\n",
    "    c = f * Rate\n",
    "    p0 = 0\n",
    "    p1 = 0\n",
    "    p2 = 0\n",
    "    p3 = 0\n",
    "    p4 = 0\n",
    "    \n",
    "    \n",
    "    while y < 10000000000:\n",
    "        if y > k: \n",
    "            p0 = c / (1+ytm[n]) ** k\n",
    "            p1 = p1 + p0\n",
    "            k = k + 1\n",
    "        if y == k:\n",
    "            p0 = c/ (1+ytm[n]) ** k\n",
    "            p2 = (c+f)/(1+ytm[n]) ** k\n",
    "            p2 = p1 + p0 + p2\n",
    "            spot.append(p2)\n",
    "            k = k + 1\n",
    "            n = n + 1\n",
    "            y = y - 1\n",
    "        else:     \n",
    "            while y < 1000000000000:\n",
    "                if y > j:\n",
    "                    p3 = c / (1+ytm[n]) ** j\n",
    "                    p4 = p4 + p3\n",
    "                    j = j + 1\n",
    "                \n",
    "                if y = j:\n",
    "                    spot.append(p4)\n",
    "                    j = 1\n",
    "                    y = y - 1\n",
    "                    n = n + 1\n",
    "                if y < j :\n",
    "                    break\n",
    "                \n",
    "                            \n",
    "    \n",
    "    \n",
    "            \n",
    "                \n",
    "\n",
    "\n",
    "\n",
    "\n",
    "\n"
   ]
  },
  {
   "cell_type": "code",
   "execution_count": 43,
   "metadata": {},
   "outputs": [
    {
     "name": "stdout",
     "output_type": "stream",
     "text": [
      "5\n"
     ]
    },
    {
     "ename": "KeyboardInterrupt",
     "evalue": "",
     "output_type": "error",
     "traceback": [
      "\u001b[1;31m---------------------------------------------------------------------------\u001b[0m",
      "\u001b[1;31mKeyboardInterrupt\u001b[0m                         Traceback (most recent call last)",
      "\u001b[1;32m<ipython-input-43-517799f57ee2>\u001b[0m in \u001b[0;36m<module>\u001b[1;34m\u001b[0m\n\u001b[0;32m     15\u001b[0m         \u001b[0my\u001b[0m \u001b[1;33m=\u001b[0m \u001b[0myy\u001b[0m\u001b[1;33m\u001b[0m\u001b[1;33m\u001b[0m\u001b[0m\n\u001b[0;32m     16\u001b[0m         \u001b[0mn\u001b[0m \u001b[1;33m=\u001b[0m \u001b[1;36m0\u001b[0m\u001b[1;33m\u001b[0m\u001b[1;33m\u001b[0m\u001b[0m\n\u001b[1;32m---> 17\u001b[1;33m         \u001b[0mguess_price\u001b[0m\u001b[1;33m(\u001b[0m\u001b[0my\u001b[0m\u001b[1;33m)\u001b[0m\u001b[1;33m\u001b[0m\u001b[1;33m\u001b[0m\u001b[0m\n\u001b[0m\u001b[0;32m     18\u001b[0m         \u001b[0mprint\u001b[0m\u001b[1;33m(\u001b[0m\u001b[0mspot\u001b[0m\u001b[1;33m)\u001b[0m\u001b[1;33m\u001b[0m\u001b[1;33m\u001b[0m\u001b[0m\n\u001b[0;32m     19\u001b[0m         \u001b[1;32mbreak\u001b[0m\u001b[1;33m\u001b[0m\u001b[1;33m\u001b[0m\u001b[0m\n",
      "\u001b[1;32m<ipython-input-42-38a19f2f2b5e>\u001b[0m in \u001b[0;36mguess_price\u001b[1;34m(y)\u001b[0m\n\u001b[0;32m     30\u001b[0m                     \u001b[0mj\u001b[0m \u001b[1;33m=\u001b[0m \u001b[0mj\u001b[0m \u001b[1;33m+\u001b[0m \u001b[1;36m1\u001b[0m\u001b[1;33m\u001b[0m\u001b[1;33m\u001b[0m\u001b[0m\n\u001b[0;32m     31\u001b[0m                 \u001b[1;32mif\u001b[0m \u001b[0my\u001b[0m \u001b[1;33m==\u001b[0m \u001b[1;36m2\u001b[0m \u001b[1;33m:\u001b[0m\u001b[1;33m\u001b[0m\u001b[1;33m\u001b[0m\u001b[0m\n\u001b[1;32m---> 32\u001b[1;33m                     \u001b[1;32mbreak\u001b[0m\u001b[1;33m\u001b[0m\u001b[1;33m\u001b[0m\u001b[0m\n\u001b[0m\u001b[0;32m     33\u001b[0m                 \u001b[1;32mif\u001b[0m \u001b[0my\u001b[0m \u001b[1;33m==\u001b[0m \u001b[0mj\u001b[0m\u001b[1;33m:\u001b[0m\u001b[1;33m\u001b[0m\u001b[1;33m\u001b[0m\u001b[0m\n\u001b[0;32m     34\u001b[0m                     \u001b[0mspot\u001b[0m\u001b[1;33m.\u001b[0m\u001b[0mappend\u001b[0m\u001b[1;33m(\u001b[0m\u001b[0mp4\u001b[0m\u001b[1;33m)\u001b[0m\u001b[1;33m\u001b[0m\u001b[1;33m\u001b[0m\u001b[0m\n",
      "\u001b[1;31mKeyboardInterrupt\u001b[0m: "
     ]
    }
   ],
   "source": [
    "ytm = []\n",
    "spot = []\n",
    "\n",
    "y = int(input())\n",
    "yy = y\n",
    "i = 0\n",
    "while i < 100000000000000 :\n",
    "    if y > 0 :\n",
    "        wonder2(y)\n",
    "        \n",
    "        y = y - 1\n",
    "        \n",
    "        \n",
    "    else:\n",
    "        y = yy\n",
    "        n = 0\n",
    "        guess_price(y)\n",
    "        print(spot)\n",
    "        break\n",
    "    \n",
    "    \n",
    "    \n",
    "    \n",
    "    \n",
    "    "
   ]
  },
  {
   "cell_type": "code",
   "execution_count": null,
   "metadata": {},
   "outputs": [],
   "source": []
  },
  {
   "cell_type": "code",
   "execution_count": null,
   "metadata": {},
   "outputs": [],
   "source": []
  },
  {
   "cell_type": "code",
   "execution_count": null,
   "metadata": {},
   "outputs": [],
   "source": [
    "\n",
    "        "
   ]
  },
  {
   "cell_type": "code",
   "execution_count": null,
   "metadata": {},
   "outputs": [],
   "source": []
  },
  {
   "cell_type": "code",
   "execution_count": null,
   "metadata": {},
   "outputs": [],
   "source": []
  },
  {
   "cell_type": "code",
   "execution_count": null,
   "metadata": {},
   "outputs": [],
   "source": []
  },
  {
   "cell_type": "code",
   "execution_count": null,
   "metadata": {},
   "outputs": [],
   "source": []
  }
 ],
 "metadata": {
  "kernelspec": {
   "display_name": "Python 3",
   "language": "python",
   "name": "python3"
  },
  "language_info": {
   "codemirror_mode": {
    "name": "ipython",
    "version": 3
   },
   "file_extension": ".py",
   "mimetype": "text/x-python",
   "name": "python",
   "nbconvert_exporter": "python",
   "pygments_lexer": "ipython3",
   "version": "3.7.4"
  }
 },
 "nbformat": 4,
 "nbformat_minor": 2
}
