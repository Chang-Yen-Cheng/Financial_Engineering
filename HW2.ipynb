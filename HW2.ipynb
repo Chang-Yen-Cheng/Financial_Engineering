{
 "cells": [
  {
   "cell_type": "code",
   "execution_count": null,
   "metadata": {},
   "outputs": [],
   "source": [
    "F = int(input())"
   ]
  },
  {
   "cell_type": "code",
   "execution_count": null,
   "metadata": {},
   "outputs": [],
   "source": [
    "Rate = float(input())"
   ]
  },
  {
   "cell_type": "code",
   "execution_count": null,
   "metadata": {},
   "outputs": [],
   "source": [
    "P = int(input())"
   ]
  },
  {
   "cell_type": "code",
   "execution_count": null,
   "metadata": {},
   "outputs": [],
   "source": [
    "N = float(input())"
   ]
  },
  {
   "cell_type": "code",
   "execution_count": null,
   "metadata": {},
   "outputs": [],
   "source": [
    "m = float(input())"
   ]
  },
  {
   "cell_type": "code",
   "execution_count": null,
   "metadata": {},
   "outputs": [],
   "source": [
    "C = F * Rate / m"
   ]
  },
  {
   "cell_type": "code",
   "execution_count": null,
   "metadata": {},
   "outputs": [],
   "source": [
    "n = N * m "
   ]
  },
  {
   "cell_type": "code",
   "execution_count": null,
   "metadata": {},
   "outputs": [],
   "source": [
    "i = 0"
   ]
  },
  {
   "cell_type": "code",
   "execution_count": null,
   "metadata": {},
   "outputs": [],
   "source": [
    "R = 0.00001"
   ]
  },
  {
   "cell_type": "code",
   "execution_count": null,
   "metadata": {},
   "outputs": [],
   "source": [
    "PV = C * (1- (1 + R/m) ** (-n)) / (R/m) + F / (1+R/m) ** n "
   ]
  },
  {
   "cell_type": "code",
   "execution_count": null,
   "metadata": {},
   "outputs": [],
   "source": [
    "while i < 10000000000000:\n",
    "    if P < PV :\n",
    "        R = R + 0.00001\n",
    "        PV = C * (1-(1 + R/m) ** (-n)) / (R/m) + F / (1+R/m) ** n\n",
    "        i = i + 1\n",
    "        \n",
    "    if P >= PV :\n",
    "        R = 100*R/m\n",
    "        print(R)\n",
    "        break\n",
    "        "
   ]
  },
  {
   "cell_type": "code",
   "execution_count": null,
   "metadata": {},
   "outputs": [],
   "source": [
    "def wonder(f,r,p,y):\n",
    "    r = 0.00001\n",
    "    c = f * Rate \n",
    "    i = 0\n",
    "    pv = c * (1- (1 + r) ** (-y)) / (r) + f / (1+r) ** y\n",
    "    \n",
    "    \n",
    "    while i < 10000000000000:\n",
    "        if p < pv :\n",
    "            r = r + 0.00001\n",
    "            pv = c * (1-(1 + r) ** (-y)) / (r) + f / (1+r) ** y\n",
    "            i = i + 1\n",
    "        \n",
    "        if p >= pv :\n",
    "            r = 100*r\n",
    "            \n",
    "            break\n",
    "    "
   ]
  },
  {
   "cell_type": "code",
   "execution_count": null,
   "metadata": {},
   "outputs": [],
   "source": [
    "f = int(input())\n",
    "r = float(input())\n",
    "p = int(input())\n",
    "y = float(input())\n",
    "wonder(f,r,p,y)\n",
    "print(r)"
   ]
  },
  {
   "cell_type": "code",
   "execution_count": null,
   "metadata": {},
   "outputs": [],
   "source": [
    "def wonder2(y):\n",
    "    r = 0.00001\n",
    "    c = f * Rate \n",
    "    i = 0\n",
    "    pv = c * (1- (1 + r) ** (-y)) / (r) + f / (1+r) ** y\n",
    "    \n",
    "    \n",
    "    while i < 10000000000000:\n",
    "        if p < pv :\n",
    "            r = r + 0.00001\n",
    "            pv = c * (1-(1 + r) ** (-y)) / (r) + f / (1+r) ** y\n",
    "            i = i + 1\n",
    "        \n",
    "        if p >= pv :\n",
    "            r = 100*r\n",
    "            ytm.append(r)\n",
    "            break\n",
    "    "
   ]
  },
  {
   "cell_type": "code",
   "execution_count": null,
   "metadata": {},
   "outputs": [],
   "source": [
    "def spot_rate(Pt):\n",
    "    spot[n] = Pt ** (-1/t) - 1"
   ]
  },
  {
   "cell_type": "code",
   "execution_count": null,
   "metadata": {},
   "outputs": [],
   "source": [
    "def guess_price(y):\n",
    "    j = 1\n",
    "    n = 0\n",
    "    k = 1\n",
    "    c = f * Rate\n",
    "    p0 = 0\n",
    "    p1 = 0\n",
    "    p2 = 0\n",
    "    p3 = 0\n",
    "    p4 = 0\n",
    "    \n",
    "    \n",
    "    while y < 10000000000:\n",
    "        if y > k: \n",
    "            p0 = c / (1+ytm[n]) ** k\n",
    "            p1 = p1 + p0\n",
    "            k = k + 1\n",
    "        if y == k:\n",
    "            p0 = c/ (1+ytm[n]) ** k\n",
    "            p2 = (c+f)/(1+ytm[n]) ** k\n",
    "            p2 = p1 + p0 + p2\n",
    "            spot.append(p2)\n",
    "            k = k + 1\n",
    "            n = n + 1\n",
    "            y = y - 1\n",
    "        else:     \n",
    "            while y < 1000000000000:\n",
    "                if y > j:\n",
    "                    p3 = c / (1+ytm[n]) ** j\n",
    "                    p4 = p4 + p3\n",
    "                    j = j + 1\n",
    "                \n",
    "                if y = j:\n",
    "                    spot.append(p4)\n",
    "                    j = 1\n",
    "                    y = y - 1\n",
    "                    n = n + 1\n",
    "                if y < j :\n",
    "                    break\n",
    "                \n",
    "                            \n",
    "    \n",
    "    \n",
    "            \n",
    "                \n",
    "\n",
    "\n",
    "\n",
    "\n",
    "\n"
   ]
  },
  {
   "cell_type": "code",
   "execution_count": null,
   "metadata": {},
   "outputs": [],
   "source": [
    "ytm = []\n",
    "spot = []\n",
    "\n",
    "y = int(input())\n",
    "yy = y\n",
    "i = 0\n",
    "while i < 100000000000000 :\n",
    "    if y > 0 :\n",
    "        wonder2(y)\n",
    "        \n",
    "        y = y - 1\n",
    "        \n",
    "        \n",
    "    else:\n",
    "        y = yy\n",
    "        n = 0\n",
    "        guess_price(y)\n",
    "        print(spot)\n",
    "        break\n",
    "    \n",
    "    \n",
    "    \n",
    "    \n",
    "    \n",
    "    "
   ]
  },
  {
   "cell_type": "code",
   "execution_count": null,
   "metadata": {},
   "outputs": [],
   "source": []
  },
  {
   "cell_type": "code",
   "execution_count": null,
   "metadata": {},
   "outputs": [],
   "source": []
  },
  {
   "cell_type": "code",
   "execution_count": null,
   "metadata": {},
   "outputs": [],
   "source": [
    "\n",
    "        "
   ]
  },
  {
   "cell_type": "code",
   "execution_count": null,
   "metadata": {},
   "outputs": [],
   "source": []
  },
  {
   "cell_type": "code",
   "execution_count": null,
   "metadata": {},
   "outputs": [],
   "source": []
  },
  {
   "cell_type": "code",
   "execution_count": null,
   "metadata": {},
   "outputs": [],
   "source": []
  },
  {
   "cell_type": "code",
   "execution_count": null,
   "metadata": {},
   "outputs": [],
   "source": []
  }
 ],
 "metadata": {
  "kernelspec": {
   "display_name": "Python 3",
   "language": "python",
   "name": "python3"
  },
  "language_info": {
   "codemirror_mode": {
    "name": "ipython",
    "version": 3
   },
   "file_extension": ".py",
   "mimetype": "text/x-python",
   "name": "python",
   "nbconvert_exporter": "python",
   "pygments_lexer": "ipython3",
   "version": "3.7.4"
  }
 },
 "nbformat": 4,
 "nbformat_minor": 2
}
